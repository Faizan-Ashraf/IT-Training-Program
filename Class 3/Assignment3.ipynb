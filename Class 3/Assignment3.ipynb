{
  "nbformat": 4,
  "nbformat_minor": 0,
  "metadata": {
    "colab": {
      "provenance": []
    },
    "kernelspec": {
      "name": "python3",
      "display_name": "Python 3"
    },
    "language_info": {
      "name": "python"
    }
  },
  "cells": [
    {
      "cell_type": "code",
      "execution_count": 12,
      "metadata": {
        "colab": {
          "base_uri": "https://localhost:8080/"
        },
        "id": "2XfSYhiU4lau",
        "outputId": "e0806be1-9ac3-496c-f51d-f54417b5474e"
      },
      "outputs": [
        {
          "output_type": "stream",
          "name": "stdout",
          "text": [
            "Finish project\n",
            "Buy groceries\n",
            "Finish project\n"
          ]
        }
      ],
      "source": [
        "tasks=[]\n",
        "def addTask(task):\n",
        "  tasks.append(task)\n",
        "\n",
        "def removeTask(task):\n",
        "  if task in tasks:\n",
        "    tasks.remove(task)\n",
        "  else:\n",
        "    print(\"Task not found\")\n",
        "\n",
        "def viewTasks():\n",
        "  for task in tasks:\n",
        "    print(task)\n",
        "\n",
        "addTask(\"Finish project\")\n",
        "addTask(\"Buy groceries\")\n",
        "viewTasks()\n",
        "removeTask(\"Buy groceries\")\n",
        "viewTasks()\n"
      ]
    },
    {
      "cell_type": "code",
      "source": [
        "def findMinMax(numbers):\n",
        "  min = numbers[0]\n",
        "  max = numbers[0]\n",
        "  for number in numbers:\n",
        "    if min > number:\n",
        "      min = number\n",
        "    if max<number:\n",
        "      max = number\n",
        "  return min,max\n",
        "\n",
        "numbers = [3,9,2,8,1]\n",
        "min,max = findMinMax(numbers)\n",
        "print(f\"Min Value: {min}, Max Value: {max}\")\n"
      ],
      "metadata": {
        "colab": {
          "base_uri": "https://localhost:8080/"
        },
        "id": "kvEu-GmZ7PyW",
        "outputId": "540228ca-d314-4f26-c459-2c8f70cda61e"
      },
      "execution_count": 5,
      "outputs": [
        {
          "output_type": "stream",
          "name": "stdout",
          "text": [
            "Min Value: 1, Max Value: 9\n"
          ]
        }
      ]
    },
    {
      "cell_type": "code",
      "source": [
        "phonebook = {}\n",
        "def addContact(name,number):\n",
        "  phonebook[name] = number\n",
        "\n",
        "def getNumber(name):\n",
        "  return phonebook.get(name,\"Contact not found\")\n",
        "\n",
        "addContact(\"Alice\",\"1234567890\")\n",
        "addContact(\"Bob\",\"9876543210\")\n",
        "print(getNumber(\"Alice\"))\n",
        "print(getNumber(\"Charlie\"))"
      ],
      "metadata": {
        "colab": {
          "base_uri": "https://localhost:8080/"
        },
        "id": "wAkZmY989BSq",
        "outputId": "e5308742-781d-464b-ff08-bbd76bb69b00"
      },
      "execution_count": 6,
      "outputs": [
        {
          "output_type": "stream",
          "name": "stdout",
          "text": [
            "1234567890\n",
            "Contact not found\n"
          ]
        }
      ]
    },
    {
      "cell_type": "code",
      "source": [
        "inventory = {}\n",
        "def addItem(item,quantity):\n",
        "  if item in inventory:\n",
        "    inventory[item] += quantity\n",
        "  else:\n",
        "    inventory[item] = quantity\n",
        "\n",
        "def removeItem(item,quantity):\n",
        "  if item in inventory and  inventory[item] >= quantity:\n",
        "     inventory[item] -= quantity\n",
        "     if inventory[item] == 0:\n",
        "       del inventory[item]\n",
        "  else:\n",
        "      print(\"Not enough quantity\")\n",
        "\n",
        "def viewInventory():\n",
        "  for item,quantity in inventory.items():\n",
        "    print(f\"{item}: {quantity}\")\n",
        "\n",
        "addItem(\"Apple\",10)\n",
        "addItem(\"Banana\",5)\n",
        "removeItem(\"Apple\",3)\n",
        "viewInventory()"
      ],
      "metadata": {
        "colab": {
          "base_uri": "https://localhost:8080/"
        },
        "id": "Hd_xCV_09-QX",
        "outputId": "0f449c97-c95b-45f4-b2c7-fa049d058643"
      },
      "execution_count": 7,
      "outputs": [
        {
          "output_type": "stream",
          "name": "stdout",
          "text": [
            "Apple: 7\n",
            "Banana: 5\n"
          ]
        }
      ]
    },
    {
      "cell_type": "code",
      "source": [
        "def deposit(balance,amount):\n",
        "  balance+=amount\n",
        "  print(f\"  Deposit: {amount},   New Balance: {balance}\")\n",
        "  return balance\n",
        "\n",
        "def withdraw(balance,amount):\n",
        "  if amount <= balance:\n",
        "    balance-=amount\n",
        "    print(f\"  Withdrawal: {amount},   New Balance: {balance}\")\n",
        "  else:\n",
        "    print(\"Insufficient funds\")\n",
        "  return balance\n",
        "\n",
        "def checkBalance(balance):\n",
        "  print(f\"  Current Balance: {balance}\")\n",
        "\n",
        "balance = 1000\n",
        "\n",
        "balance = deposit(balance,500)\n",
        "balance = withdraw(balance,200)\n",
        "checkBalance(balance)\n"
      ],
      "metadata": {
        "colab": {
          "base_uri": "https://localhost:8080/"
        },
        "id": "jMT2z7ZuAEZe",
        "outputId": "a87e9856-cdbe-4550-e9de-640f57fffbe9"
      },
      "execution_count": 11,
      "outputs": [
        {
          "output_type": "stream",
          "name": "stdout",
          "text": [
            "  Deposit: 500,   New Balance: 1500\n",
            "  Withdrawal: 200,   New Balance: 1300\n",
            "  Current Balance: 1300\n"
          ]
        }
      ]
    }
  ]
}